{
 "cells": [
  {
   "cell_type": "code",
   "execution_count": 1,
   "id": "00646411",
   "metadata": {},
   "outputs": [],
   "source": [
    "from __future__ import unicode_literals\n",
    "import pandas as pd\n",
    "import yt_dlp\n",
    "import csv\n",
    "\n",
    "list_ = []\n",
    "\n",
    "with open(\"C:/Users/alexa/Documents/Studium/Bachelor/testlistsong.csv\", 'r', encoding='mac_roman', newline='') as csvfile:\n",
    "    lines = csv.reader(csvfile, delimiter = ',', quotechar = '|')\n",
    "    for line in lines:\n",
    "        list_.append(line)"
   ]
  },
  {
   "cell_type": "code",
   "execution_count": 2,
   "id": "4da4c0db",
   "metadata": {
    "scrolled": true
   },
   "outputs": [],
   "source": [
    "import_list = pd.DataFrame(list_)\n",
    "import_list.columns = ['Key','Band','Song','Genre','Link']"
   ]
  },
  {
   "cell_type": "code",
   "execution_count": 3,
   "id": "3f71ab4a",
   "metadata": {},
   "outputs": [],
   "source": [
    "def yt_to_wav(link,Song_):\n",
    "    \n",
    "    Song = Song_\n",
    "\n",
    "    ydl_opts = {\n",
    "        'format': 'wav/bestaudio/best',\n",
    "        #'default-search':\"fixup_error\",\n",
    "        'outtmpl': \"C:/Users/alexa/Documents/Studium/Bachelor/ActualMusic/\" + Song,\n",
    "        'postprocessors': [{\n",
    "            'key': 'FFmpegExtractAudio',\n",
    "            'preferredcodec': 'wav',\n",
    "            'preferredquality': '192',\n",
    "            \n",
    "        \n",
    "\n",
    "        }],\n",
    "    }\n",
    "    with yt_dlp.YoutubeDL(ydl_opts) as ydl:\n",
    "        ydl.download([link])"
   ]
  },
  {
   "cell_type": "code",
   "execution_count": 4,
   "id": "947d5a2e",
   "metadata": {
    "scrolled": false
   },
   "outputs": [
    {
     "name": "stdout",
     "output_type": "stream",
     "text": [
      "[youtube] Extracting URL: https://www.youtube.com/watch?v=G_zuB-ogIBw\n",
      "[youtube] G_zuB-ogIBw: Downloading webpage\n",
      "[youtube] G_zuB-ogIBw: Downloading android player API JSON\n",
      "[info] G_zuB-ogIBw: Downloading 1 format(s): 251\n",
      "[dashsegments] Total fragments: 1\n",
      "[download] Destination: C:\\Users\\alexa\\Documents\\Studium\\Bachelor\\ActualMusic\\Fancy Like\n",
      "[download] 100% of    2.56MiB in 00:00:02 at 1.22MiB/s               \n",
      "[ExtractAudio] Destination: C:\\Users\\alexa\\Documents\\Studium\\Bachelor\\ActualMusic\\Fancy Like.wav\n",
      "Deleting original file C:\\Users\\alexa\\Documents\\Studium\\Bachelor\\ActualMusic\\Fancy Like (pass -k to keep)\n",
      "Converting to WavFancy Like\n"
     ]
    }
   ],
   "source": [
    "for i in range(0,len(import_list)-1):\n",
    "    yt_to_wav(import_list.Link[i+1],import_list.Song[i+1])\n",
    "    print(\"Converting to Wav\" + str(import_list.Song[i+1]))"
   ]
  },
  {
   "cell_type": "code",
   "execution_count": 5,
   "id": "1a8f2d55",
   "metadata": {},
   "outputs": [
    {
     "name": "stdout",
     "output_type": "stream",
     "text": [
      "Finished\n"
     ]
    }
   ],
   "source": [
    "print(\"Finished\")"
   ]
  },
  {
   "cell_type": "markdown",
   "id": "537349dd",
   "metadata": {},
   "source": [
    "## References"
   ]
  },
  {
   "cell_type": "markdown",
   "id": "c832bacc",
   "metadata": {},
   "source": [
    "From: karmaNeggs. (2020, February 9). MIRaGE/01_track_to_wav.ipynb at master · karmaNeggs/MIRaGE. GitHub. Retrieved April 18, 2023, from https://github.com/karmaNeggs/MIRaGE/blob/master/Code_repo/01_track_to_wav.ipynb"
   ]
  },
  {
   "cell_type": "markdown",
   "id": "92bc9973",
   "metadata": {},
   "source": [
    "From: Yt-Dlp. (2012, December 31). GitHub - yt-dlp/yt-dlp: A youtube-dl fork with additional features and fixes. GitHub. Retrieved April 19, 2023, from https://github.com/yt-dlp/yt-dlp"
   ]
  },
  {
   "cell_type": "code",
   "execution_count": null,
   "id": "ab01c851",
   "metadata": {},
   "outputs": [],
   "source": []
  }
 ],
 "metadata": {
  "kernelspec": {
   "display_name": "Python 3 (ipykernel)",
   "language": "python",
   "name": "python3"
  },
  "language_info": {
   "codemirror_mode": {
    "name": "ipython",
    "version": 3
   },
   "file_extension": ".py",
   "mimetype": "text/x-python",
   "name": "python",
   "nbconvert_exporter": "python",
   "pygments_lexer": "ipython3",
   "version": "3.9.13"
  }
 },
 "nbformat": 4,
 "nbformat_minor": 5
}
